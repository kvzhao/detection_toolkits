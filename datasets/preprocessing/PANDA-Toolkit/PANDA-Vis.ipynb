{
 "cells": [
  {
   "cell_type": "code",
   "execution_count": 24,
   "metadata": {},
   "outputs": [],
   "source": [
    "import os\n",
    "from os.path import join\n",
    "import sys\n",
    "import json\n",
    "import panda_utils as util\n",
    "from ImgSplit import ImgSplit\n",
    "from ResultMerge import DetResMerge\n",
    "from pycocotools.coco import COCO"
   ]
  },
  {
   "cell_type": "code",
   "execution_count": 25,
   "metadata": {},
   "outputs": [],
   "source": [
    "def load_json(path):\n",
    "    with open(path, 'r') as fp:\n",
    "        jsonfile = json.load(fp)\n",
    "    return jsonfile"
   ]
  },
  {
   "cell_type": "code",
   "execution_count": 26,
   "metadata": {},
   "outputs": [],
   "source": [
    "data_root_dir = 'C:/Users/KV_Zhao/Documents/DATASETS/PANDA/'"
   ]
  },
  {
   "cell_type": "code",
   "execution_count": 30,
   "metadata": {},
   "outputs": [],
   "source": [
    "split_file_path = join(data_root_dir, 'split/annoJSONs/split.json')\n",
    "result_file_path = 'temp_res.json'\n",
    "image_dir = join(data_root_dir, 'split/PANDA_IMAGE')\n",
    "groundtruth_file_path = join(data_root_dir, 'image_annos/person_bbox_train.json')\n",
    "output_dir = 'test_folder'\n",
    "outfile_name = 'mergetest.json'\n",
    "detection_result_file_path = join(output_dir, 'predictions.json')"
   ]
  },
  {
   "cell_type": "code",
   "execution_count": 31,
   "metadata": {},
   "outputs": [
    {
     "name": "stdout",
     "output_type": "stream",
     "text": [
      "Loading result json file: test_folder\\predictions.json\n",
      "Loading split annotation json file: C:/Users/KV_Zhao/Documents/DATASETS/PANDA/split/annoJSONs/split.json\n"
     ]
    }
   ],
   "source": [
    "# So, this is wired.\n",
    "#util.GT2DetRes(split_file_path, result_file_path)\n",
    "# Basically temp res is the object list of coco\n",
    "\n",
    "if not os.path.exists(output_dir):\n",
    "    os.makedirs(output_dir)\n",
    "outfile_name = 'mergetest.json'\n",
    "merge = DetResMerge(image_dir,\n",
    "                    detection_result_file_path,\n",
    "                    split_file_path,\n",
    "                    groundtruth_file_path,\n",
    "                    output_dir,\n",
    "                    outfile_name)"
   ]
  },
  {
   "cell_type": "code",
   "execution_count": 32,
   "metadata": {},
   "outputs": [
    {
     "data": {
      "text/plain": [
       "13117"
      ]
     },
     "execution_count": 32,
     "metadata": {},
     "output_type": "execute_result"
    }
   ],
   "source": [
    "len(merge.results)"
   ]
  },
  {
   "cell_type": "code",
   "execution_count": 33,
   "metadata": {},
   "outputs": [
    {
     "name": "stdout",
     "output_type": "stream",
     "text": [
      "Loading source annotation json file: C:/Users/KV_Zhao/Documents/DATASETS/PANDA/image_annos/person_bbox_train.json\n"
     ]
    }
   ],
   "source": [
    "merge.mergeResults(is_nms=False)"
   ]
  },
  {
   "cell_type": "code",
   "execution_count": 34,
   "metadata": {},
   "outputs": [
    {
     "name": "stdout",
     "output_type": "stream",
     "text": [
      "01_University_Canteen_IMG_01_01___0.5__0__0.jpg [{'image_id': 1, 'bbox': [-2.54, -1.97, 834.16, 1022.32], 'category_id': 1, 'score': 0.15}, {'image_id': 1, 'bbox': [-2.48, 2.23, 997.6, 1012.67], 'category_id': 1, 'score': 0.13}, {'image_id': 1, 'bbox': [10.37, 8.12, 1197.13, 999.84], 'category_id': 1, 'score': 0.12}]\n"
     ]
    }
   ],
   "source": [
    "for k, v in merge.results.items():\n",
    "    print(k, v)\n",
    "    break"
   ]
  },
  {
   "cell_type": "code",
   "execution_count": 20,
   "metadata": {
    "scrolled": false
   },
   "outputs": [
    {
     "name": "stdout",
     "output_type": "stream",
     "text": [
      "Loading annotation json file: C:/Users/KV_Zhao/Documents/DATASETS/PANDA/image_annos/person_bbox_train.json\n"
     ]
    }
   ],
   "source": [
    "splitter = ImgSplit(image_dir, groundtruth_file_path, 'person', output_dir, split_file_path)"
   ]
  },
  {
   "cell_type": "code",
   "execution_count": 40,
   "metadata": {},
   "outputs": [
    {
     "name": "stdout",
     "output_type": "stream",
     "text": [
      "image id 1\n",
      "image size {'height': 15052, 'width': 26753}\n"
     ]
    }
   ],
   "source": [
    "for k, v in splitter.annos.items():\n",
    "    print('image id', v['image id'])\n",
    "    print('image size', v['image size'])\n",
    "    objs = v['objects list']\n",
    "    break"
   ]
  },
  {
   "cell_type": "code",
   "execution_count": null,
   "metadata": {},
   "outputs": [],
   "source": []
  }
 ],
 "metadata": {
  "kernelspec": {
   "display_name": "Python 3",
   "language": "python",
   "name": "python3"
  },
  "language_info": {
   "codemirror_mode": {
    "name": "ipython",
    "version": 3
   },
   "file_extension": ".py",
   "mimetype": "text/x-python",
   "name": "python",
   "nbconvert_exporter": "python",
   "pygments_lexer": "ipython3",
   "version": "3.7.4"
  }
 },
 "nbformat": 4,
 "nbformat_minor": 2
}
