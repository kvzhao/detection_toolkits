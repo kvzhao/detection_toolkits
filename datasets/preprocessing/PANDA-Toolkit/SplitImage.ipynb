{
 "cells": [
  {
   "cell_type": "code",
   "execution_count": 13,
   "metadata": {},
   "outputs": [],
   "source": [
    "import os\n",
    "from os.path import join\n",
    "import sys\n",
    "import json\n",
    "import panda_utils as util\n",
    "from PANDA import PANDA_IMAGE\n",
    "from ImgSplit import ImgSplit\n",
    "from ResultMerge import DetResMerge\n",
    "from pycocotools.coco import COCO\n",
    "from pprint import pprint"
   ]
  },
  {
   "cell_type": "code",
   "execution_count": 62,
   "metadata": {},
   "outputs": [],
   "source": [
    "def load_json(path):\n",
    "    with open(path, 'r') as fp:\n",
    "        jsonfile = json.load(fp)\n",
    "    return jsonfile\n",
    "\n",
    "def save_json(path, d):\n",
    "    with open(path, 'w') as fp:\n",
    "        json_str = json.dumps(d)\n",
    "        fp.write(json_str)\n",
    "    print('Done, save to {}'.format(path))"
   ]
  },
  {
   "cell_type": "code",
   "execution_count": 2,
   "metadata": {},
   "outputs": [],
   "source": [
    "data_root_dir = 'C:/Users/KV_Zhao/Documents/DATASETS/PANDA/'\n",
    "image_root = join(data_root_dir, 'image_train')\n",
    "groundtruth_file_path = join(data_root_dir, 'image_annos/person_bbox_train.json')\n",
    "output_dir = 'split_single_image'\n",
    "detection_result_file_path = 'ctdet_800x800_crowdhuman_from_extend_pt_warmup_0404_model_last.json'"
   ]
  },
  {
   "cell_type": "code",
   "execution_count": 3,
   "metadata": {},
   "outputs": [
    {
     "name": "stdout",
     "output_type": "stream",
     "text": [
      "Loading annotation json file: C:/Users/KV_Zhao/Documents/DATASETS/PANDA/image_annos/person_bbox_train.json\n"
     ]
    }
   ],
   "source": [
    "output_anno_path = os.path.join(output_dir, 'split.json')\n",
    "os.makedirs(output_dir, exist_ok=True)\n",
    "example = PANDA_IMAGE(image_root, groundtruth_file_path, annomode='person')"
   ]
  },
  {
   "cell_type": "code",
   "execution_count": 4,
   "metadata": {},
   "outputs": [
    {
     "name": "stdout",
     "output_type": "stream",
     "text": [
      "filename: C:/Users/KV_Zhao/Documents/DATASETS/PANDA/image_train\\06_University_Campus/IMG_06_05.jpg\n"
     ]
    }
   ],
   "source": [
    "example.showAnns(range=1, shuffle=True)"
   ]
  },
  {
   "cell_type": "code",
   "execution_count": 5,
   "metadata": {},
   "outputs": [
    {
     "name": "stdout",
     "output_type": "stream",
     "text": [
      "Loading annotation json file: C:/Users/KV_Zhao/Documents/DATASETS/PANDA/image_annos/person_bbox_train.json\n"
     ]
    }
   ],
   "source": [
    "splitter = ImgSplit(image_root, groundtruth_file_path, 'person', output_dir, output_anno_path)"
   ]
  },
  {
   "cell_type": "code",
   "execution_count": 43,
   "metadata": {},
   "outputs": [
    {
     "name": "stdout",
     "output_type": "stream",
     "text": [
      "filename: C:/Users/KV_Zhao/Documents/DATASETS/PANDA/image_train\\01_University_Canteen/IMG_01_01.jpg\n"
     ]
    }
   ],
   "source": [
    "sample_image_path = '01_University_Canteen/IMG_01_01.jpg'\n",
    "patch_annos = splitter.SplitSingle(sample_image_path, 0.5)"
   ]
  },
  {
   "cell_type": "code",
   "execution_count": 58,
   "metadata": {},
   "outputs": [],
   "source": [
    "def restrain_between_0_1(values_list):\n",
    "    return_list = []\n",
    "    for value in values_list:\n",
    "        if value < 0:\n",
    "            new_value = 0\n",
    "        elif value > 1:\n",
    "            new_value = 1\n",
    "        else:\n",
    "            new_value = value\n",
    "        return_list.append(new_value)\n",
    "    return return_list\n",
    "\n",
    "def RectDict2List(rectdict, imgwidth, imgheight, scale, mode='tlbr'):\n",
    "    x1, y1, x2, y2 = restrain_between_0_1([rectdict['tl']['x'], rectdict['tl']['y'],\n",
    "                                           rectdict['br']['x'], rectdict['br']['y']])\n",
    "    xmin = int(x1 * imgwidth * scale)\n",
    "    ymin = int(y1 * imgheight * scale)\n",
    "    xmax = int(x2 * imgwidth * scale)\n",
    "    ymax = int(y2 * imgheight * scale)\n",
    "\n",
    "    if mode == 'tlbr':\n",
    "        return xmin, ymin, xmax, ymax\n",
    "    elif mode == 'tlwh':\n",
    "        return xmin, ymin, xmax - xmin, ymax - ymin"
   ]
  },
  {
   "cell_type": "code",
   "execution_count": 56,
   "metadata": {
    "scrolled": false
   },
   "outputs": [],
   "source": [
    "def anno2coco(annos_dict, anno_types=['fbox']):\n",
    "    CATEGORY = {\n",
    "    'visible body': 1,\n",
    "    'full body': 2,\n",
    "    'head': 3,\n",
    "    'vehicle': 4\n",
    "    }\n",
    "\n",
    "    CATMAP = {\n",
    "        'fbox': 'full body',\n",
    "        'vbox': 'visible body',\n",
    "        'hbox': 'head',\n",
    "        'vehicle': 'vehicle'\n",
    "    }\n",
    "    json_dict = {\n",
    "    'images': [],\n",
    "    'annotations': [],\n",
    "    'categories': [\n",
    "        {\n",
    "        'supercategory': 'person',\n",
    "        'id': CATEGORY[CATMAP[anno]],\n",
    "        'name': CATMAP[anno],\n",
    "        } for anno in anno_types\n",
    "    ]}\n",
    "\n",
    "    bbox_id = 1\n",
    "    ignore = 0 \n",
    "\n",
    "    for imagename, imagedict in annos_dict.items():\n",
    "        imgwidth = imagedict['image size']['width']\n",
    "        imgheight = imagedict['image size']['height']\n",
    "        image_id = imagedict['image id']\n",
    "        scale = 1.0\n",
    "        #scale = showwidth / imgwidth\n",
    "        image_info = {\n",
    "            'file_name': imagename,\n",
    "            'height': imgheight,\n",
    "            'width': imgwidth,\n",
    "            'id': image_id,\n",
    "        }\n",
    "        json_dict['images'].append(image_info)\n",
    "\n",
    "        for object_dict in imagedict['objects list']:\n",
    "            objcate = object_dict['category']\n",
    "            if objcate == 'person':\n",
    "                #personpose = object_dict['riding type'] if object_dict['pose'] == 'riding' else object_dict['pose']\n",
    "                if 'fbox' in anno_types:\n",
    "                    fullrect = RectDict2List(object_dict['rects']['full body'], imgwidth, imgheight, scale, 'tlwh')\n",
    "                    annotation = {\n",
    "                            'area': fullrect[2] * fullrect[3],\n",
    "                            'iscrowd': ignore,\n",
    "                            'image_id': image_id,\n",
    "                            'bbox': fullrect,\n",
    "                            'category_id': CATEGORY[CATMAP['fbox']],\n",
    "                            'id': bbox_id,\n",
    "                            'ignore': ignore,\n",
    "                            'segmentation': [],\n",
    "                    }\n",
    "                    json_dict['annotations'].append(annotation)\n",
    "                    bbox_id += 1\n",
    "\n",
    "                if 'vbox' in anno_types:\n",
    "                    visiblerect = RectDict2List(object_dict['rects']['visible body'], imgwidth, imgheight, scale, 'tlwh')\n",
    "                    annotation = {\n",
    "                            'area': visiblerect[2] * visiblerect[3],\n",
    "                            'iscrowd': ignore,\n",
    "                            'image_id': image_id,\n",
    "                            'bbox': visiblerect,\n",
    "                            'category_id': CATEGORY[CATMAP['vbox']],\n",
    "                            'id': bbox_id,\n",
    "                            'ignore': ignore,\n",
    "                            'segmentation': [],\n",
    "                    }\n",
    "                    json_dict['annotations'].append(annotation)\n",
    "                    bbox_id += 1\n",
    "\n",
    "                if 'hbox' in anno_types:\n",
    "                    headrect = RectDict2List(object_dict['rects']['head'], imgwidth, imgheight, scale, 'tlwh')\n",
    "                    annotation = {\n",
    "                            'area': headrect[2] * headrect[3],\n",
    "                            'iscrowd': ignore,\n",
    "                            'image_id': image_id,\n",
    "                            'bbox': headrect,\n",
    "                            'category_id': CATEGORY[CATMAP['hbox']],\n",
    "                            'id': bbox_id,\n",
    "                            'ignore': ignore,\n",
    "                            'segmentation': [],\n",
    "                    }\n",
    "                    json_dict['annotations'].append(annotation)\n",
    "                    bbox_id += 1\n",
    "    return json_dict"
   ]
  },
  {
   "cell_type": "code",
   "execution_count": 45,
   "metadata": {},
   "outputs": [],
   "source": [
    "all_image_split_jsonfile_path = join(data_root_dir, 'all_image_split/annoJSONs/split.json')\n",
    "all_image_split = load_json(all_image_split_jsonfile_path)"
   ]
  },
  {
   "cell_type": "code",
   "execution_count": 52,
   "metadata": {},
   "outputs": [],
   "source": [
    "# Use split.json image_id as primary key\n",
    "for image_name, imagedict in all_image_split.items():\n",
    "    if image_name in patch_annos:\n",
    "        imgid = imagedict['image id']\n",
    "        patch_annos[image_name]['image id'] = imgid"
   ]
  },
  {
   "cell_type": "code",
   "execution_count": 59,
   "metadata": {},
   "outputs": [],
   "source": [
    "patch_coco_annos = anno2coco(patch_annos)"
   ]
  },
  {
   "cell_type": "code",
   "execution_count": 60,
   "metadata": {},
   "outputs": [
    {
     "data": {
      "text/plain": [
       "{'images': [{'file_name': '01_University_Canteen_IMG_01_01___0.5__0__0.jpg', 'height': 1025, 'width': 2049, 'id': 1}, {'file_name': '01_University_Canteen_IMG_01_01___0.5__0__924.jpg', 'height': 1025, 'width': 2049, 'id': 2}, {'file_name': '01_University_Canteen_IMG_01_01___0.5__0__1848.jpg', 'height': 1025, 'width': 2049, 'id': 3}, {'file_name': '01_University_Canteen_IMG_01_01___0.5__0__2772.jpg', 'height': 1025, 'width': 2049, 'id': 4}, {'file_name': '01_University_Canteen_IMG_01_01___0.5__0__3696.jpg', 'height': 1025, 'width': 2049, 'id': 5}, {'file_name': '01_University_Canteen_IMG_01_01___0.5__0__4620.jpg', 'height': 1025, 'width': 2049, 'id': 6}, {'file_name': '01_University_Canteen_IMG_01_01___0.5__0__5544.jpg', 'height': 1025, 'width': 2049, 'id': 7}, {'file_name': '01_University_Canteen_IMG_01_01___0.5__0__6468.jpg', 'height': 1025, 'width': 2049, 'id': 8}, {'file_name': '01_University_Canteen_IMG_01_01___0.5__0__6502.jpg', 'height': 1024, 'width': 2049, 'id': 9}, {'file_name': '01_University_Canteen_IMG_01_01___0.5__1948__0.jpg', 'height': 1025, 'width': 2049, 'id': 10}, {'file_name': '01_University_Canteen_IMG_01_01___0.5__1948__924.jpg', 'height': 1025, 'width': 2049, 'id': 11}, {'file_name': '01_University_Canteen_IMG_01_01___0.5__1948__1848.jpg', 'height': 1025, 'width': 2049, 'id': 12}, {'file_name': '01_University_Canteen_IMG_01_01___0.5__1948__2772.jpg', 'height': 1025, 'width': 2049, 'id': 13}, {'file_name': '01_University_Canteen_IMG_01_01___0.5__1948__3696.jpg', 'height': 1025, 'width': 2049, 'id': 14}, {'file_name': '01_University_Canteen_IMG_01_01___0.5__1948__4620.jpg', 'height': 1025, 'width': 2049, 'id': 15}, {'file_name': '01_University_Canteen_IMG_01_01___0.5__1948__5544.jpg', 'height': 1025, 'width': 2049, 'id': 16}, {'file_name': '01_University_Canteen_IMG_01_01___0.5__1948__6468.jpg', 'height': 1025, 'width': 2049, 'id': 17}, {'file_name': '01_University_Canteen_IMG_01_01___0.5__1948__6502.jpg', 'height': 1024, 'width': 2049, 'id': 18}, {'file_name': '01_University_Canteen_IMG_01_01___0.5__3896__0.jpg', 'height': 1025, 'width': 2049, 'id': 19}, {'file_name': '01_University_Canteen_IMG_01_01___0.5__3896__924.jpg', 'height': 1025, 'width': 2049, 'id': 20}, {'file_name': '01_University_Canteen_IMG_01_01___0.5__3896__1848.jpg', 'height': 1025, 'width': 2049, 'id': 21}, {'file_name': '01_University_Canteen_IMG_01_01___0.5__3896__2772.jpg', 'height': 1025, 'width': 2049, 'id': 22}, {'file_name': '01_University_Canteen_IMG_01_01___0.5__3896__3696.jpg', 'height': 1025, 'width': 2049, 'id': 23}, {'file_name': '01_University_Canteen_IMG_01_01___0.5__3896__4620.jpg', 'height': 1025, 'width': 2049, 'id': 24}, {'file_name': '01_University_Canteen_IMG_01_01___0.5__3896__5544.jpg', 'height': 1025, 'width': 2049, 'id': 25}, {'file_name': '01_University_Canteen_IMG_01_01___0.5__3896__6468.jpg', 'height': 1025, 'width': 2049, 'id': 26}, {'file_name': '01_University_Canteen_IMG_01_01___0.5__3896__6502.jpg', 'height': 1024, 'width': 2049, 'id': 27}, {'file_name': '01_University_Canteen_IMG_01_01___0.5__5844__0.jpg', 'height': 1025, 'width': 2049, 'id': 28}, {'file_name': '01_University_Canteen_IMG_01_01___0.5__5844__924.jpg', 'height': 1025, 'width': 2049, 'id': 29}, {'file_name': '01_University_Canteen_IMG_01_01___0.5__5844__1848.jpg', 'height': 1025, 'width': 2049, 'id': 30}, {'file_name': '01_University_Canteen_IMG_01_01___0.5__5844__2772.jpg', 'height': 1025, 'width': 2049, 'id': 31}, {'file_name': '01_University_Canteen_IMG_01_01___0.5__5844__3696.jpg', 'height': 1025, 'width': 2049, 'id': 32}, {'file_name': '01_University_Canteen_IMG_01_01___0.5__5844__4620.jpg', 'height': 1025, 'width': 2049, 'id': 33}, {'file_name': '01_University_Canteen_IMG_01_01___0.5__5844__5544.jpg', 'height': 1025, 'width': 2049, 'id': 34}, {'file_name': '01_University_Canteen_IMG_01_01___0.5__5844__6468.jpg', 'height': 1025, 'width': 2049, 'id': 35}, {'file_name': '01_University_Canteen_IMG_01_01___0.5__5844__6502.jpg', 'height': 1024, 'width': 2049, 'id': 36}, {'file_name': '01_University_Canteen_IMG_01_01___0.5__7792__0.jpg', 'height': 1025, 'width': 2049, 'id': 37}, {'file_name': '01_University_Canteen_IMG_01_01___0.5__7792__924.jpg', 'height': 1025, 'width': 2049, 'id': 38}, {'file_name': '01_University_Canteen_IMG_01_01___0.5__7792__1848.jpg', 'height': 1025, 'width': 2049, 'id': 39}, {'file_name': '01_University_Canteen_IMG_01_01___0.5__7792__2772.jpg', 'height': 1025, 'width': 2049, 'id': 40}, {'file_name': '01_University_Canteen_IMG_01_01___0.5__7792__3696.jpg', 'height': 1025, 'width': 2049, 'id': 41}, {'file_name': '01_University_Canteen_IMG_01_01___0.5__7792__4620.jpg', 'height': 1025, 'width': 2049, 'id': 42}, {'file_name': '01_University_Canteen_IMG_01_01___0.5__7792__5544.jpg', 'height': 1025, 'width': 2049, 'id': 43}, {'file_name': '01_University_Canteen_IMG_01_01___0.5__7792__6468.jpg', 'height': 1025, 'width': 2049, 'id': 44}, {'file_name': '01_University_Canteen_IMG_01_01___0.5__7792__6502.jpg', 'height': 1024, 'width': 2049, 'id': 45}, {'file_name': '01_University_Canteen_IMG_01_01___0.5__9740__0.jpg', 'height': 1025, 'width': 2049, 'id': 46}, {'file_name': '01_University_Canteen_IMG_01_01___0.5__9740__924.jpg', 'height': 1025, 'width': 2049, 'id': 47}, {'file_name': '01_University_Canteen_IMG_01_01___0.5__9740__1848.jpg', 'height': 1025, 'width': 2049, 'id': 48}, {'file_name': '01_University_Canteen_IMG_01_01___0.5__9740__2772.jpg', 'height': 1025, 'width': 2049, 'id': 49}, {'file_name': '01_University_Canteen_IMG_01_01___0.5__9740__3696.jpg', 'height': 1025, 'width': 2049, 'id': 50}, {'file_name': '01_University_Canteen_IMG_01_01___0.5__9740__4620.jpg', 'height': 1025, 'width': 2049, 'id': 51}, {'file_name': '01_University_Canteen_IMG_01_01___0.5__9740__5544.jpg', 'height': 1025, 'width': 2049, 'id': 52}, {'file_name': '01_University_Canteen_IMG_01_01___0.5__9740__6468.jpg', 'height': 1025, 'width': 2049, 'id': 53}, {'file_name': '01_University_Canteen_IMG_01_01___0.5__9740__6502.jpg', 'height': 1024, 'width': 2049, 'id': 54}, {'file_name': '01_University_Canteen_IMG_01_01___0.5__11328__0.jpg', 'height': 1025, 'width': 2048, 'id': 55}, {'file_name': '01_University_Canteen_IMG_01_01___0.5__11328__924.jpg', 'height': 1025, 'width': 2048, 'id': 56}, {'file_name': '01_University_Canteen_IMG_01_01___0.5__11328__1848.jpg', 'height': 1025, 'width': 2048, 'id': 57}, {'file_name': '01_University_Canteen_IMG_01_01___0.5__11328__2772.jpg', 'height': 1025, 'width': 2048, 'id': 58}, {'file_name': '01_University_Canteen_IMG_01_01___0.5__11328__3696.jpg', 'height': 1025, 'width': 2048, 'id': 59}, {'file_name': '01_University_Canteen_IMG_01_01___0.5__11328__4620.jpg', 'height': 1025, 'width': 2048, 'id': 60}, {'file_name': '01_University_Canteen_IMG_01_01___0.5__11328__5544.jpg', 'height': 1025, 'width': 2048, 'id': 61}, {'file_name': '01_University_Canteen_IMG_01_01___0.5__11328__6468.jpg', 'height': 1025, 'width': 2048, 'id': 62}, {'file_name': '01_University_Canteen_IMG_01_01___0.5__11328__6502.jpg', 'height': 1024, 'width': 2048, 'id': 63}], 'annotations': [{'area': 60726, 'iscrowd': 0, 'image_id': 4, 'bbox': (1092, 676, 174, 349), 'category_id': 2, 'id': 1, 'ignore': 0, 'segmentation': []}, {'area': 64222, 'iscrowd': 0, 'image_id': 4, 'bbox': (878, 613, 163, 394), 'category_id': 2, 'id': 2, 'ignore': 0, 'segmentation': []}, {'area': 48048, 'iscrowd': 0, 'image_id': 4, 'bbox': (836, 629, 132, 364), 'category_id': 2, 'id': 3, 'ignore': 0, 'segmentation': []}, {'area': 60900, 'iscrowd': 0, 'image_id': 4, 'bbox': (488, 677, 175, 348), 'category_id': 2, 'id': 4, 'ignore': 0, 'segmentation': []}, {'area': 80586, 'iscrowd': 0, 'image_id': 4, 'bbox': (340, 692, 242, 333), 'category_id': 2, 'id': 5, 'ignore': 0, 'segmentation': []}, {'area': 90282, 'iscrowd': 0, 'image_id': 4, 'bbox': (200, 658, 246, 367), 'category_id': 2, 'id': 6, 'ignore': 0, 'segmentation': []}, {'area': 2272, 'iscrowd': 0, 'image_id': 12, 'bbox': (1279, 396, 32, 71), 'category_id': 2, 'id': 7, 'ignore': 0, 'segmentation': []}, {'area': 6669, 'iscrowd': 0, 'image_id': 12, 'bbox': (1985, 569, 57, 117), 'category_id': 2, 'id': 8, 'ignore': 0, 'segmentation': []}, {'area': 5412, 'iscrowd': 0, 'image_id': 12, 'bbox': (1953, 586, 44, 123), 'category_id': 2, 'id': 9, 'ignore': 0, 'segmentation': []}, {'area': 7205, 'iscrowd': 0, 'image_id': 12, 'bbox': (1866, 589, 55, 131), 'category_id': 2, 'id': 10, 'ignore': 0, 'segmentation': []}, {'area': 5355, 'iscrowd': 0, 'image_id': 12, 'bbox': (1908, 597, 45, 119), 'category_id': 2, 'id': 11, 'ignore': 0, 'segmentation': []}, {'area': 57572, 'iscrowd': 0, 'image_id': 13, 'bbox': (1203, 434, 148, 389), 'category_id': 2, 'id': 12, 'ignore': 0, 'segmentation': []}, {'area': 57036, 'iscrowd': 0, 'image_id': 13, 'bbox': (1070, 456, 147, 388), 'category_id': 2, 'id': 13, 'ignore': 0, 'segmentation': []}, {'area': 52136, 'iscrowd': 0, 'image_id': 13, 'bbox': (921, 452, 133, 392), 'category_id': 2, 'id': 14, 'ignore': 0, 'segmentation': []}, {'area': 66816, 'iscrowd': 0, 'image_id': 13, 'bbox': (385, 625, 192, 348), 'category_id': 2, 'id': 15, 'ignore': 0, 'segmentation': []}, {'area': 28440, 'iscrowd': 0, 'image_id': 13, 'bbox': (1437, 69, 120, 237), 'category_id': 2, 'id': 16, 'ignore': 0, 'segmentation': []}, {'area': 41658, 'iscrowd': 0, 'image_id': 13, 'bbox': (1503, 261, 131, 318), 'category_id': 2, 'id': 17, 'ignore': 0, 'segmentation': []}, {'area': 25203, 'iscrowd': 0, 'image_id': 13, 'bbox': (1802, 46, 93, 271), 'category_id': 2, 'id': 18, 'ignore': 0, 'segmentation': []}, {'area': 19425, 'iscrowd': 0, 'image_id': 13, 'bbox': (1857, 36, 75, 259), 'category_id': 2, 'id': 19, 'ignore': 0, 'segmentation': []}, {'area': 25317, 'iscrowd': 0, 'image_id': 13, 'bbox': (1912, 44, 97, 261), 'category_id': 2, 'id': 20, 'ignore': 0, 'segmentation': []}, {'area': 28812, 'iscrowd': 0, 'image_id': 13, 'bbox': (1783, 127, 98, 294), 'category_id': 2, 'id': 21, 'ignore': 0, 'segmentation': []}, {'area': 32490, 'iscrowd': 0, 'image_id': 13, 'bbox': (1857, 140, 114, 285), 'category_id': 2, 'id': 22, 'ignore': 0, 'segmentation': []}, {'area': 39294, 'iscrowd': 0, 'image_id': 13, 'bbox': (1809, 284, 111, 354), 'category_id': 2, 'id': 23, 'ignore': 0, 'segmentation': []}, {'area': 37932, 'iscrowd': 0, 'image_id': 13, 'bbox': (1887, 299, 109, 348), 'category_id': 2, 'id': 24, 'ignore': 0, 'segmentation': []}, {'area': 6669, 'iscrowd': 0, 'image_id': 21, 'bbox': (37, 569, 57, 117), 'category_id': 2, 'id': 25, 'ignore': 0, 'segmentation': []}, {'area': 5412, 'iscrowd': 0, 'image_id': 21, 'bbox': (5, 586, 44, 123), 'category_id': 2, 'id': 26, 'ignore': 0, 'segmentation': []}, {'area': 22015, 'iscrowd': 0, 'image_id': 22, 'bbox': (44, 28, 85, 259), 'category_id': 2, 'id': 27, 'ignore': 0, 'segmentation': []}, {'area': 46580, 'iscrowd': 0, 'image_id': 22, 'bbox': (108, 289, 137, 340), 'category_id': 2, 'id': 28, 'ignore': 0, 'segmentation': []}, {'area': 25839, 'iscrowd': 0, 'image_id': 22, 'bbox': (1026, 231, 81, 319), 'category_id': 2, 'id': 29, 'ignore': 0, 'segmentation': []}, {'area': 59332, 'iscrowd': 0, 'image_id': 22, 'bbox': (1616, 292, 182, 326), 'category_id': 2, 'id': 30, 'ignore': 0, 'segmentation': []}, {'area': 71392, 'iscrowd': 0, 'image_id': 22, 'bbox': (1865, 486, 184, 388), 'category_id': 2, 'id': 31, 'ignore': 0, 'segmentation': []}, {'area': 42108, 'iscrowd': 0, 'image_id': 31, 'bbox': (668, 213, 132, 319), 'category_id': 2, 'id': 32, 'ignore': 0, 'segmentation': []}, {'area': 44758, 'iscrowd': 0, 'image_id': 40, 'bbox': (699, 61, 139, 322), 'category_id': 2, 'id': 33, 'ignore': 0, 'segmentation': []}, {'area': 27795, 'iscrowd': 0, 'image_id': 40, 'bbox': (792, 62, 85, 327), 'category_id': 2, 'id': 34, 'ignore': 0, 'segmentation': []}, {'area': 87173, 'iscrowd': 0, 'image_id': 40, 'bbox': (1786, 446, 179, 487), 'category_id': 2, 'id': 35, 'ignore': 0, 'segmentation': []}, {'area': 80951, 'iscrowd': 0, 'image_id': 40, 'bbox': (1621, 544, 169, 479), 'category_id': 2, 'id': 36, 'ignore': 0, 'segmentation': []}, {'area': 69084, 'iscrowd': 0, 'image_id': 49, 'bbox': (17, 274, 171, 404), 'category_id': 2, 'id': 37, 'ignore': 0, 'segmentation': []}, {'area': 49692, 'iscrowd': 0, 'image_id': 49, 'bbox': (716, 11, 164, 303), 'category_id': 2, 'id': 38, 'ignore': 0, 'segmentation': []}, {'area': 47610, 'iscrowd': 0, 'image_id': 49, 'bbox': (1654, 239, 138, 345), 'category_id': 2, 'id': 39, 'ignore': 0, 'segmentation': []}, {'area': 51480, 'iscrowd': 0, 'image_id': 49, 'bbox': (1757, 121, 143, 360), 'category_id': 2, 'id': 40, 'ignore': 0, 'segmentation': []}, {'area': 45760, 'iscrowd': 0, 'image_id': 49, 'bbox': (1919, 132, 130, 352), 'category_id': 2, 'id': 41, 'ignore': 0, 'segmentation': []}, {'area': 43818, 'iscrowd': 0, 'image_id': 49, 'bbox': (1891, 193, 134, 327), 'category_id': 2, 'id': 42, 'ignore': 0, 'segmentation': []}, {'area': 61623, 'iscrowd': 0, 'image_id': 49, 'bbox': (1853, 243, 167, 369), 'category_id': 2, 'id': 43, 'ignore': 0, 'segmentation': []}, {'area': 101748, 'iscrowd': 0, 'image_id': 49, 'bbox': (292, 608, 244, 417), 'category_id': 2, 'id': 44, 'ignore': 0, 'segmentation': []}, {'area': 80145, 'iscrowd': 0, 'image_id': 49, 'bbox': (531, 614, 195, 411), 'category_id': 2, 'id': 45, 'ignore': 0, 'segmentation': []}, {'area': 92732, 'iscrowd': 0, 'image_id': 49, 'bbox': (1053, 547, 194, 478), 'category_id': 2, 'id': 46, 'ignore': 0, 'segmentation': []}, {'area': 26361, 'iscrowd': 0, 'image_id': 57, 'bbox': (1462, 730, 101, 261), 'category_id': 2, 'id': 47, 'ignore': 0, 'segmentation': []}, {'area': 47610, 'iscrowd': 0, 'image_id': 58, 'bbox': (66, 239, 138, 345), 'category_id': 2, 'id': 48, 'ignore': 0, 'segmentation': []}, {'area': 51480, 'iscrowd': 0, 'image_id': 58, 'bbox': (169, 121, 143, 360), 'category_id': 2, 'id': 49, 'ignore': 0, 'segmentation': []}, {'area': 45760, 'iscrowd': 0, 'image_id': 58, 'bbox': (331, 132, 130, 352), 'category_id': 2, 'id': 50, 'ignore': 0, 'segmentation': []}, {'area': 43818, 'iscrowd': 0, 'image_id': 58, 'bbox': (303, 193, 134, 327), 'category_id': 2, 'id': 51, 'ignore': 0, 'segmentation': []}, {'area': 61623, 'iscrowd': 0, 'image_id': 58, 'bbox': (265, 243, 167, 369), 'category_id': 2, 'id': 52, 'ignore': 0, 'segmentation': []}, {'area': 83356, 'iscrowd': 0, 'image_id': 58, 'bbox': (1106, 513, 182, 458), 'category_id': 2, 'id': 53, 'ignore': 0, 'segmentation': []}, {'area': 83224, 'iscrowd': 0, 'image_id': 58, 'bbox': (1279, 581, 202, 412), 'category_id': 2, 'id': 54, 'ignore': 0, 'segmentation': []}, {'area': 96068, 'iscrowd': 0, 'image_id': 59, 'bbox': (424, 0, 188, 511), 'category_id': 2, 'id': 55, 'ignore': 0, 'segmentation': []}], 'categories': [{'supercategory': 'person', 'id': 2, 'name': 'full body'}]}"
      ]
     },
     "execution_count": 60,
     "metadata": {},
     "output_type": "execute_result"
    }
   ],
   "source": [
    "patch_coco_annos"
   ]
  },
  {
   "cell_type": "code",
   "execution_count": 63,
   "metadata": {},
   "outputs": [
    {
     "name": "stdout",
     "output_type": "stream",
     "text": [
      "Done, save to split_single_image\\patch_coco.json\n"
     ]
    }
   ],
   "source": [
    "save_json(join(output_dir, 'patch_coco.json'), patch_coco_annos)"
   ]
  },
  {
   "cell_type": "code",
   "execution_count": null,
   "metadata": {},
   "outputs": [],
   "source": []
  }
 ],
 "metadata": {
  "kernelspec": {
   "display_name": "Python 3",
   "language": "python",
   "name": "python3"
  },
  "language_info": {
   "codemirror_mode": {
    "name": "ipython",
    "version": 3
   },
   "file_extension": ".py",
   "mimetype": "text/x-python",
   "name": "python",
   "nbconvert_exporter": "python",
   "pygments_lexer": "ipython3",
   "version": "3.7.4"
  }
 },
 "nbformat": 4,
 "nbformat_minor": 2
}
