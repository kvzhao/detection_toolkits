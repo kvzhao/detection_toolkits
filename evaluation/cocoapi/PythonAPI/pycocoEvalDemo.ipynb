{
 "cells": [
  {
   "cell_type": "code",
   "execution_count": 1,
   "metadata": {
    "collapsed": true
   },
   "outputs": [],
   "source": [
    "%matplotlib inline\n",
    "import matplotlib.pyplot as plt\n",
    "from pycocotools.coco import COCO\n",
    "from pycocotools.cocoeval import COCOeval\n",
    "import numpy as np\n",
    "import skimage.io as io\n",
    "import pylab\n",
    "pylab.rcParams['figure.figsize'] = (10.0, 8.0)"
   ]
  },
  {
   "cell_type": "code",
   "execution_count": 2,
   "metadata": {},
   "outputs": [
    {
     "name": "stdout",
     "output_type": "stream",
     "text": [
      "Running demo for *bbox* results.\n"
     ]
    }
   ],
   "source": [
    "annType = ['segm','bbox','keypoints']\n",
    "annType = annType[1]      #specify type here\n",
    "prefix = 'person_keypoints' if annType=='keypoints' else 'instances'\n",
    "print ('Running demo for *%s* results.'%(annType))"
   ]
  },
  {
   "cell_type": "code",
   "execution_count": 3,
   "metadata": {},
   "outputs": [
    {
     "name": "stdout",
     "output_type": "stream",
     "text": [
      "loading annotations into memory...\n",
      "Done (t=1.08s)\n",
      "creating index...\n",
      "index created!\n"
     ]
    }
   ],
   "source": [
    "#initialize COCO ground truth api\n",
    "dataDir='../'\n",
    "dataType='val2014'\n",
    "#xia\n",
    "# annFile = '%s/annotations/%s_%s.json'%(dataDir,prefix,dataType)\n",
    "\n",
    "# annFile = '/home/vincent_xia/EVA/coco/coco_sample/gt.json'\n",
    "annFile = '/home/vincent_xia/EVA/coco/xia_cocoapi/PythonAPI/gt.json'\n",
    "#\n",
    "cocoGt=COCO(annFile)"
   ]
  },
  {
   "cell_type": "code",
   "execution_count": 4,
   "metadata": {},
   "outputs": [
    {
     "name": "stdout",
     "output_type": "stream",
     "text": [
      "Loading and preparing results...\n",
      "DONE (t=1.23s)\n",
      "creating index...\n",
      "index created!\n"
     ]
    }
   ],
   "source": [
    "#initialize COCO detections api\n",
    "#xia\n",
    "# resFile='%s/results/%s_%s_fake%s100_results.json'\n",
    "# resFile = resFile%(dataDir, prefix, dataType, annType)\n",
    "# \n",
    "# resFile='/home/vincent_xia/EVA/coco/coco_sample/detres.json'\n",
    "resFile='/home/vincent_xia/EVA/odgt_sample_cd/detres.json'\n",
    "# \n",
    "cocoDt=cocoGt.loadRes(resFile)"
   ]
  },
  {
   "cell_type": "code",
   "execution_count": 5,
   "metadata": {
    "collapsed": true
   },
   "outputs": [],
   "source": [
    "imgIds=sorted(cocoGt.getImgIds())\n",
    "# imgIds=imgIds[0:100]\n",
    "# print(imgIds)\n",
    "imgId = imgIds[np.random.randint(100)]\n",
    "# imgIds = [1,15,26,45,50,100]"
   ]
  },
  {
   "cell_type": "code",
   "execution_count": 6,
   "metadata": {
    "scrolled": false
   },
   "outputs": [],
   "source": [
    "# running evaluation\n",
    "cocoEval = COCOeval(cocoGt,cocoDt,annType)\n",
    "cocoEval.params.imgIds  = imgIds"
   ]
  },
  {
   "cell_type": "code",
   "execution_count": 7,
   "metadata": {},
   "outputs": [
    {
     "name": "stdout",
     "output_type": "stream",
     "text": [
      "Running per image evaluation...\n",
      "Evaluate annotation type *bbox*\n",
      "DONE (t=400.44s).\n",
      "Accumulating evaluation results...\n",
      "DONE (t=13.91s).\n",
      " Average Precision and Missing Rate (AP, MR) @[ IoU=0.50:0.95 | area=   all | maxDets=100 ] = (0.533, 0.765)\n",
      " Average Precision and Missing Rate (AP, MR) @[ IoU=0.50      | area=   all | maxDets=10000 ] = (0.845, 0.533)\n",
      " Average Precision and Missing Rate (AP, MR) @[ IoU=0.75      | area=   all | maxDets=10000 ] = (0.591, 0.802)\n",
      " Average Precision and Missing Rate (AP, MR) @[ IoU=0.50:0.95 | area= small | maxDets=10000 ] = (0.400, 0.601)\n",
      " Average Precision and Missing Rate (AP, MR) @[ IoU=0.50:0.95 | area=medium | maxDets=10000 ] = (0.530, 0.508)\n",
      " Average Precision and Missing Rate (AP, MR) @[ IoU=0.50:0.95 | area= large | maxDets=10000 ] = (0.641, 0.567)\n",
      " Average Recall and Missing Rate (AR, MR) @[ IoU=0.50:0.95 | area=   all | maxDets= 10 ] = (0.294, 0.818)\n",
      " Average Recall and Missing Rate (AR, MR) @[ IoU=0.50:0.95 | area=   all | maxDets=100 ] = (0.577, 0.765)\n",
      " Average Recall and Missing Rate (AR, MR) @[ IoU=0.50:0.95 | area=   all | maxDets=10000 ] = (0.590, 0.764)\n",
      " Average Recall and Missing Rate (AR, MR) @[ IoU=0.50:0.95 | area= small | maxDets=10000 ] = (0.399, 0.601)\n",
      " Average Recall and Missing Rate (AR, MR) @[ IoU=0.50:0.95 | area=medium | maxDets=10000 ] = (0.535, 0.508)\n",
      " Average Recall and Missing Rate (AR, MR) @[ IoU=0.50:0.95 | area= large | maxDets=10000 ] = (0.672, 0.567)\n"
     ]
    }
   ],
   "source": [
    "cocoEval.params.hitting  = 'ioa' #default 'iou'\n",
    "cocoEval.params.filtering  = 'face++' #default 'coco'\n",
    "cocoEval.evaluate()\n",
    "cocoEval.accumulate()\n",
    "cocoEval.summarize()"
   ]
  },
  {
   "cell_type": "code",
   "execution_count": 8,
   "metadata": {},
   "outputs": [
    {
     "name": "stdout",
     "output_type": "stream",
     "text": [
      "Running per image evaluation...\n",
      "Evaluate annotation type *bbox*\n",
      "DONE (t=171.18s).\n",
      "Accumulating evaluation results...\n",
      "DONE (t=10.24s).\n",
      " Average Precision and Missing Rate (AP, MR) @[ IoU=0.50:0.95 | area=   all | maxDets=100 ] = (0.521, 0.783)\n",
      " Average Precision and Missing Rate (AP, MR) @[ IoU=0.50      | area=   all | maxDets=10000 ] = (0.833, 0.567)\n",
      " Average Precision and Missing Rate (AP, MR) @[ IoU=0.75      | area=   all | maxDets=10000 ] = (0.573, 0.817)\n",
      " Average Precision and Missing Rate (AP, MR) @[ IoU=0.50:0.95 | area= small | maxDets=10000 ] = (0.265, 0.844)\n",
      " Average Precision and Missing Rate (AP, MR) @[ IoU=0.50:0.95 | area=medium | maxDets=10000 ] = (0.463, 0.772)\n",
      " Average Precision and Missing Rate (AP, MR) @[ IoU=0.50:0.95 | area= large | maxDets=10000 ] = (0.622, 0.633)\n",
      " Average Recall and Missing Rate (AR, MR) @[ IoU=0.50:0.95 | area=   all | maxDets= 10 ] = (0.294, 0.825)\n",
      " Average Recall and Missing Rate (AR, MR) @[ IoU=0.50:0.95 | area=   all | maxDets=100 ] = (0.577, 0.783)\n",
      " Average Recall and Missing Rate (AR, MR) @[ IoU=0.50:0.95 | area=   all | maxDets=10000 ] = (0.590, 0.783)\n",
      " Average Recall and Missing Rate (AR, MR) @[ IoU=0.50:0.95 | area= small | maxDets=10000 ] = (0.399, 0.844)\n",
      " Average Recall and Missing Rate (AR, MR) @[ IoU=0.50:0.95 | area=medium | maxDets=10000 ] = (0.535, 0.772)\n",
      " Average Recall and Missing Rate (AR, MR) @[ IoU=0.50:0.95 | area= large | maxDets=10000 ] = (0.672, 0.633)\n"
     ]
    }
   ],
   "source": [
    "cocoEval.params.hitting  = 'iou'\n",
    "cocoEval.params.filtering  = 'coco'\n",
    "cocoEval.evaluate()\n",
    "cocoEval.accumulate()\n",
    "cocoEval.summarize()"
   ]
  },
  {
   "cell_type": "code",
   "execution_count": null,
   "metadata": {
    "collapsed": true
   },
   "outputs": [],
   "source": []
  },
  {
   "cell_type": "code",
   "execution_count": null,
   "metadata": {
    "collapsed": true
   },
   "outputs": [],
   "source": []
  }
 ],
 "metadata": {
  "kernelspec": {
   "display_name": "Python 3",
   "language": "python",
   "name": "python3"
  },
  "language_info": {
   "codemirror_mode": {
    "name": "ipython",
    "version": 3
   },
   "file_extension": ".py",
   "mimetype": "text/x-python",
   "name": "python",
   "nbconvert_exporter": "python",
   "pygments_lexer": "ipython3",
   "version": "3.6.1"
  }
 },
 "nbformat": 4,
 "nbformat_minor": 1
}
